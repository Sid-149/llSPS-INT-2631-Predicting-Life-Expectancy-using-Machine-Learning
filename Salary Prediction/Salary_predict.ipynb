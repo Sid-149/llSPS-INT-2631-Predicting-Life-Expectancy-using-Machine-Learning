{
 "cells": [
  {
   "cell_type": "code",
   "execution_count": 1,
   "metadata": {},
   "outputs": [],
   "source": [
    "#importing libraries\n",
    "import pandas as pd\n",
    "import numpy as np\n",
    "import matplotlib.pyplot as plt"
   ]
  },
  {
   "cell_type": "code",
   "execution_count": 2,
   "metadata": {},
   "outputs": [],
   "source": [
    "#loading dataset\n",
    "salary = pd.read_csv('Salary_Data.csv')\n",
    "#print(salary)"
   ]
  },
  {
   "cell_type": "code",
   "execution_count": 3,
   "metadata": {},
   "outputs": [],
   "source": [
    "#separating the independent & dependant variable\n",
    "years_exp = salary.iloc[:,:1].values #independant variable\n",
    "#print(years_exp)\n",
    "salary_pr = salary.iloc[:,1:].values #dependant variable\n",
    "#print(salary_pr)"
   ]
  },
  {
   "cell_type": "code",
   "execution_count": 4,
   "metadata": {},
   "outputs": [
    {
     "data": {
      "text/plain": [
       "Text(0.5, 1.0, 'Salary Predict Scatter Plot')"
      ]
     },
     "execution_count": 4,
     "metadata": {},
     "output_type": "execute_result"
    },
    {
     "data": {
      "image/png": "[encoded data removed]",
      "text/plain": [
       "<Figure size 432x288 with 1 Axes>"
      ]
     },
     "metadata": {
      "needs_background": "light"
     },
     "output_type": "display_data"
    }
   ],
   "source": [
    "#plotting the dataset using matplot library\n",
    "fig = plt.figure()\n",
    "ax = fig.add_axes([0,0,1,1])\n",
    "ax.scatter(years_exp, salary_pr, color = 'b')\n",
    "ax.set_xlabel('Years Experience')  #Adding an x-label to the axes\n",
    "ax.set_ylabel('Salary')  #Adding a y-label to the axes\n",
    "ax.set_title('Salary Predict Scatter Plot')  #Adding a title to the axes"
   ]
  },
  {
   "cell_type": "code",
   "execution_count": 5,
   "metadata": {},
   "outputs": [],
   "source": [
    "#splitting the dataset into train & test\n",
    "from sklearn.model_selection import train_test_split\n",
    "X_train, X_test, Y_train, Y_test = train_test_split(years_exp, salary_pr, test_size=0.2, random_state=0)"
   ]
  },
  {
   "cell_type": "code",
   "execution_count": 6,
   "metadata": {},
   "outputs": [
    {
     "data": {
      "text/plain": [
       "LinearRegression()"
      ]
     },
     "execution_count": 6,
     "metadata": {},
     "output_type": "execute_result"
    }
   ],
   "source": [
    "#importing linear regression model from sklearn\n",
    "from sklearn.linear_model import LinearRegression\n",
    "reg = LinearRegression() #creating an instance\n",
    "reg.fit(X_train, Y_train) #training the data"
   ]
  },
  {
   "cell_type": "code",
   "execution_count": 7,
   "metadata": {},
   "outputs": [
    {
     "name": "stdout",
     "output_type": "stream",
     "text": [
      "[[ 40748.96184072]\n",
      " [122699.62295594]\n",
      " [ 64961.65717022]\n",
      " [ 63099.14214487]\n",
      " [115249.56285456]\n",
      " [107799.50275317]]\n"
     ]
    }
   ],
   "source": [
    "#creating a variable to predicted data\n",
    "salary_predict = reg.predict(X_test)\n",
    "print(salary_predict)"
   ]
  },
  {
   "cell_type": "code",
   "execution_count": 8,
   "metadata": {},
   "outputs": [
    {
     "name": "stdout",
     "output_type": "stream",
     "text": [
      "[[ 37731.]\n",
      " [122391.]\n",
      " [ 57081.]\n",
      " [ 63218.]\n",
      " [116969.]\n",
      " [109431.]]\n"
     ]
    }
   ],
   "source": [
    "#comparing the predicted values with testing values\n",
    "print(Y_test)"
   ]
  },
  {
   "cell_type": "code",
   "execution_count": 9,
   "metadata": {},
   "outputs": [
    {
     "name": "stdout",
     "output_type": "stream",
     "text": [
      "[[ 37023.93179003]\n",
      " [ 38886.44681538]\n",
      " [ 40748.96184072]\n",
      " [ 45405.24940409]\n",
      " [ 47267.76442943]\n",
      " [ 53786.56701814]\n",
      " [ 54717.82453082]\n",
      " [ 56580.33955616]\n",
      " [ 56580.33955616]\n",
      " [ 61236.62711953]\n",
      " [ 63099.14214487]\n",
      " [ 64030.39965754]\n",
      " [ 64030.39965754]\n",
      " [ 64961.65717022]\n",
      " [ 68686.68722091]\n",
      " [ 72411.7172716 ]\n",
      " [ 74274.23229695]\n",
      " [ 76136.74732229]\n",
      " [ 81724.29239833]\n",
      " [ 82655.549911  ]\n",
      " [ 90105.61001239]\n",
      " [ 92899.38255041]\n",
      " [100349.44265179]\n",
      " [103143.21518981]\n",
      " [107799.50275317]\n",
      " [110593.27529119]\n",
      " [115249.56285456]\n",
      " [116180.82036723]\n",
      " [122699.62295594]\n",
      " [124562.13798128]]\n",
      "[[ 39343.]\n",
      " [ 46205.]\n",
      " [ 37731.]\n",
      " [ 43525.]\n",
      " [ 39891.]\n",
      " [ 56642.]\n",
      " [ 60150.]\n",
      " [ 54445.]\n",
      " [ 64445.]\n",
      " [ 57189.]\n",
      " [ 63218.]\n",
      " [ 55794.]\n",
      " [ 56957.]\n",
      " [ 57081.]\n",
      " [ 61111.]\n",
      " [ 67938.]\n",
      " [ 66029.]\n",
      " [ 83088.]\n",
      " [ 81363.]\n",
      " [ 93940.]\n",
      " [ 91738.]\n",
      " [ 98273.]\n",
      " [101302.]\n",
      " [113812.]\n",
      " [109431.]\n",
      " [105582.]\n",
      " [116969.]\n",
      " [112635.]\n",
      " [122391.]\n",
      " [121872.]]\n"
     ]
    },
    {
     "data": {
      "image/png": "[encoded data removed]",
      "text/plain": [
       "<Figure size 432x288 with 1 Axes>"
      ]
     },
     "metadata": {
      "needs_background": "light"
     },
     "output_type": "display_data"
    }
   ],
   "source": [
    "#comparing the predicted values with the salary dataset using graph\n",
    "plt.scatter(years_exp, salary_pr, color = 'b')\n",
    "plt.plot(years_exp, reg.predict(years_exp), color = 'r')\n",
    "plt.xlabel('Years Experience')  #Adding an x-label to the axes\n",
    "plt.ylabel('Salary')  #Adding a y-label to the axes\n",
    "plt.title('Comparison Plot')  #Adding a title to the axes\n",
    "salary_predict = reg.predict(years_exp)\n",
    "print(salary_predict)\n",
    "print(salary_pr)"
   ]
  },
  {
   "cell_type": "code",
   "execution_count": 10,
   "metadata": {},
   "outputs": [
    {
     "data": {
      "text/plain": [
       "LinearRegression()"
      ]
     },
     "execution_count": 10,
     "metadata": {},
     "output_type": "execute_result"
    }
   ],
   "source": [
    "#using polynomial features\n",
    "from sklearn.preprocessing import PolynomialFeatures\n",
    "poly = PolynomialFeatures(degree = 2)\n",
    "X_poly = poly.fit_transform(years_exp)\n",
    "reg.fit(X_poly, salary_pr) #training the data"
   ]
  },
  {
   "cell_type": "code",
   "execution_count": 11,
   "metadata": {},
   "outputs": [
    {
     "data": {
      "text/plain": [
       "Text(0.5, 1.0, 'Comparison Plot')"
      ]
     },
     "execution_count": 11,
     "metadata": {},
     "output_type": "execute_result"
    },
    {
     "data": {
      "image/png": "[encoded data removed]",
      "text/plain": [
       "<Figure size 432x288 with 1 Axes>"
      ]
     },
     "metadata": {
      "needs_background": "light"
     },
     "output_type": "display_data"
    }
   ],
   "source": [
    "#comparing the predicted values with the salary dataset using graph\n",
    "plt.scatter(years_exp, salary_pr, color = 'b')\n",
    "plt.plot(years_exp, reg.predict(poly.fit_transform(years_exp)), color = 'r')\n",
    "plt.xlabel('Years Experience')  #Adding an x-label to the axes\n",
    "plt.ylabel('Salary')  #Adding a y-label to the axes\n",
    "plt.title('Comparison Plot')  #Adding a title to the axes"
   ]
  },
  {
   "cell_type": "code",
   "execution_count": 12,
   "metadata": {},
   "outputs": [
    {
     "name": "stdout",
     "output_type": "stream",
     "text": [
      "[[ 36419.97995933]\n",
      " [ 38279.7051688 ]\n",
      " [ 40140.74178358]\n",
      " [ 44799.07071874]\n",
      " [ 46664.69725209]\n",
      " [ 53204.7174356 ]\n",
      " [ 54140.31743855]\n",
      " [ 56012.50099842]\n",
      " [ 56012.50099842]\n",
      " [ 60698.69729633]\n",
      " [ 62575.47077478]\n",
      " [ 63514.34929099]\n",
      " [ 63514.34929099]\n",
      " [ 64453.55565853]\n",
      " [ 68213.65964195]\n",
      " [ 71979.00924659]\n",
      " [ 73863.65115687]\n",
      " [ 75749.60447246]\n",
      " [ 81415.33285105]\n",
      " [ 82360.76839379]\n",
      " [ 89936.05538347]\n",
      " [ 92782.19755149]\n",
      " [100386.33545789]\n",
      " [103243.29671968]\n",
      " [108011.45584918]\n",
      " [110876.2855428 ]\n",
      " [115657.55872536]\n",
      " [116614.79691585]\n",
      " [123324.64408643]\n",
      " [125244.69393997]]\n"
     ]
    }
   ],
   "source": [
    "salary_predict = reg.predict(poly.fit_transform(years_exp))\n",
    "print(salary_predict)"
   ]
  },
  {
   "cell_type": "code",
   "execution_count": 13,
   "metadata": {},
   "outputs": [
    {
     "name": "stdout",
     "output_type": "stream",
     "text": [
      "[[ 39343.]\n",
      " [ 46205.]\n",
      " [ 37731.]\n",
      " [ 43525.]\n",
      " [ 39891.]\n",
      " [ 56642.]\n",
      " [ 60150.]\n",
      " [ 54445.]\n",
      " [ 64445.]\n",
      " [ 57189.]\n",
      " [ 63218.]\n",
      " [ 55794.]\n",
      " [ 56957.]\n",
      " [ 57081.]\n",
      " [ 61111.]\n",
      " [ 67938.]\n",
      " [ 66029.]\n",
      " [ 83088.]\n",
      " [ 81363.]\n",
      " [ 93940.]\n",
      " [ 91738.]\n",
      " [ 98273.]\n",
      " [101302.]\n",
      " [113812.]\n",
      " [109431.]\n",
      " [105582.]\n",
      " [116969.]\n",
      " [112635.]\n",
      " [122391.]\n",
      " [121872.]]\n"
     ]
    }
   ],
   "source": [
    "print(salary_pr)"
   ]
  },
  {
   "cell_type": "code",
   "execution_count": null,
   "metadata": {},
   "outputs": [],
   "source": []
  }
 ],
 "metadata": {
  "kernelspec": {
   "display_name": "Python 3",
   "language": "python",
   "name": "python3"
  },
  "language_info": {
   "codemirror_mode": {
    "name": "ipython",
    "version": 3
   },
   "file_extension": ".py",
   "mimetype": "text/x-python",
   "name": "python",
   "nbconvert_exporter": "python",
   "pygments_lexer": "ipython3",
   "version": "3.8.2"
  }
 },
 "nbformat": 4,
 "nbformat_minor": 4
}
